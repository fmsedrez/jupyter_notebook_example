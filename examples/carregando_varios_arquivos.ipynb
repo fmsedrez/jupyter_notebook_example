{
 "cells": [
  {
   "cell_type": "code",
   "execution_count": 18,
   "metadata": {
    "collapsed": true
   },
   "outputs": [],
   "source": [
    "import pandas as pd\n",
    "import logging\n",
    "low_memory=False\n",
    "pd.options.display.max_columns = 40\n",
    "pd.options.display.max_rows = 40\n",
    "\n",
    "logging.basicConfig(level='INFO')\n",
    "log = logging.getLogger(\" carregando_varios_arquivos\\n\")"
   ]
  },
  {
   "cell_type": "code",
   "execution_count": 30,
   "outputs": [],
   "source": [
    "data_folder = \"../data/\""
   ],
   "metadata": {
    "collapsed": false,
    "pycharm": {
     "name": "#%%\n"
    }
   }
  },
  {
   "cell_type": "code",
   "execution_count": 31,
   "outputs": [
    {
     "ename": "SyntaxError",
     "evalue": "invalid syntax (<ipython-input-31-51a1b7c6a42d>, line 2)",
     "output_type": "error",
     "traceback": [
      "\u001B[0;36m  File \u001B[0;32m\"<ipython-input-31-51a1b7c6a42d>\"\u001B[0;36m, line \u001B[0;32m2\u001B[0m\n\u001B[0;31m    df_sales_september = pd.read_csv(f'{data_folder + september_sales_file}, encoding='utf-8', sep=',', decimal='.')\u001B[0m\n\u001B[0m                                                                                         ^\u001B[0m\n\u001B[0;31mSyntaxError\u001B[0m\u001B[0;31m:\u001B[0m invalid syntax\n"
     ]
    }
   ],
   "source": [
    "# Carregando o arquivo csv com as vendas do mês de setembro\n",
    "september_sales_file = \"sales_september.csv\"\n",
    "df_sales_september = pd.read_csv(f'{data_folder + september_sales_file}', sep=',', decimal='.')"
   ],
   "metadata": {
    "collapsed": false,
    "pycharm": {
     "name": "#%%\n"
    }
   }
  },
  {
   "cell_type": "code",
   "execution_count": 32,
   "outputs": [
    {
     "name": "stderr",
     "output_type": "stream",
     "text": [
      "INFO: carregando_varios_arquivos\n",
      ":    product_id    sale_id        date\n",
      "0        11425  126856600  2020-09-06\n",
      "1        11426  126856601  2020-09-07\n",
      "2        11426  126856602  2020-09-08\n",
      "3        11427  126856603  2020-09-09\n",
      "4        11428  126856604  2020-09-10\n",
      "5        11429  126856605  2020-09-11\n",
      "6        11430  126856606  2020-09-12\n",
      "7        11431  126856607  2020-09-13\n",
      "8        11432  126856608  2020-09-14\n",
      "9        11433  126856609  2020-09-15\n",
      "10       11434  126856610  2020-09-16\n",
      "11       11435  126856611  2020-09-17\n",
      "12       11436  126856612  2020-09-18\n",
      "13       11437  126856613  2020-09-19\n",
      "14       11438  126856614  2020-09-20\n",
      "15       11439  126856615  2020-09-21\n",
      "16       11440  126856616  2020-09-22\n",
      "17       11441  126856617  2020-09-23\n",
      "18       11442  126856618  2020-09-24\n",
      "19       11443  126856619  2020-09-25\n",
      "20       11444  126856620  2020-09-26\n",
      "21       11445  126856621  2020-09-27\n",
      "22       11446  126856622  2020-09-28\n"
     ]
    }
   ],
   "source": [
    "log.info(df_sales_september)"
   ],
   "metadata": {
    "collapsed": false,
    "pycharm": {
     "name": "#%%\n"
    }
   }
  },
  {
   "cell_type": "code",
   "execution_count": 33,
   "outputs": [],
   "source": [
    "# Carregando o arquivo csv com as vendas do mês de outubro\n",
    "october_sales_file = \"sales_october.csv\"\n",
    "df_sales_october = pd.read_csv(f'{data_folder + october_sales_file}', sep=',', decimal='.')"
   ],
   "metadata": {
    "collapsed": false,
    "pycharm": {
     "name": "#%%\n"
    }
   }
  },
  {
   "cell_type": "code",
   "execution_count": 34,
   "outputs": [
    {
     "name": "stderr",
     "output_type": "stream",
     "text": [
      "INFO: carregando_varios_arquivos\n",
      ":    product_id    sale_id        date\n",
      "0        11425  126856632  2020-10-01\n",
      "1        11426  126856633  2020-10-02\n",
      "2        11427  126856634  2020-10-03\n",
      "3        11428  126856635  2020-10-04\n",
      "4        11429  126856636  2020-10-05\n",
      "5        11430  126856637  2020-10-06\n",
      "6        11431  126856638  2020-10-07\n",
      "7        11432  126856639  2020-10-08\n",
      "8        11433  126856640  2020-10-09\n",
      "9        11434  126856641  2020-10-10\n",
      "10       11435  126856642  2020-10-11\n",
      "11       11436  126856643  2020-10-12\n",
      "12       11437  126856644  2020-10-13\n",
      "13       11438  126856645  2020-10-14\n",
      "14       11439  126856646  2020-10-15\n",
      "15       11440  126856647  2020-10-16\n",
      "16       11441  126856648  2020-10-17\n",
      "17       11442  126856649  2020-10-18\n",
      "18       11443  126856650  2020-10-19\n",
      "19       11444  126856651  2020-10-20\n",
      "20       11445  126856652  2020-10-21\n",
      "21       11446  126856653  2020-10-22\n"
     ]
    }
   ],
   "source": [
    "log.info(df_sales_october)"
   ],
   "metadata": {
    "collapsed": false,
    "pycharm": {
     "name": "#%%\n"
    }
   }
  },
  {
   "cell_type": "code",
   "execution_count": 36,
   "outputs": [],
   "source": [
    "# Juntando os dois dataframes em um.\n",
    "df_last_two_month_sales = pd.concat([df_sales_september,df_sales_october])"
   ],
   "metadata": {
    "collapsed": false,
    "pycharm": {
     "name": "#%%\n"
    }
   }
  },
  {
   "cell_type": "code",
   "execution_count": 37,
   "outputs": [
    {
     "name": "stderr",
     "output_type": "stream",
     "text": [
      "INFO: carregando_varios_arquivos\n",
      ":    product_id    sale_id        date\n",
      "0        11425  126856600  2020-09-06\n",
      "1        11426  126856601  2020-09-07\n",
      "2        11426  126856602  2020-09-08\n",
      "3        11427  126856603  2020-09-09\n",
      "4        11428  126856604  2020-09-10\n",
      "..         ...        ...         ...\n",
      "17       11442  126856649  2020-10-18\n",
      "18       11443  126856650  2020-10-19\n",
      "19       11444  126856651  2020-10-20\n",
      "20       11445  126856652  2020-10-21\n",
      "21       11446  126856653  2020-10-22\n",
      "\n",
      "[45 rows x 3 columns]\n"
     ]
    }
   ],
   "source": [
    "log.info(df_last_two_month_sales)"
   ],
   "metadata": {
    "collapsed": false,
    "pycharm": {
     "name": "#%%\n"
    }
   }
  }
 ],
 "metadata": {
  "kernelspec": {
   "display_name": "Python 3",
   "language": "python",
   "name": "python3"
  },
  "language_info": {
   "codemirror_mode": {
    "name": "ipython",
    "version": 2
   },
   "file_extension": ".py",
   "mimetype": "text/x-python",
   "name": "python",
   "nbconvert_exporter": "python",
   "pygments_lexer": "ipython2",
   "version": "2.7.6"
  }
 },
 "nbformat": 4,
 "nbformat_minor": 0
}